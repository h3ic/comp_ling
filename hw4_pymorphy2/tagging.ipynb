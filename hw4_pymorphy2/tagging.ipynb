{
 "cells": [
  {
   "cell_type": "code",
   "execution_count": 1,
   "metadata": {},
   "outputs": [],
   "source": [
    "import json\n",
    "import collections\n",
    "import numpy as np\n",
    "import pymorphy2\n",
    "analyzer = pymorphy2.MorphAnalyzer()"
   ]
  },
  {
   "cell_type": "code",
   "execution_count": 2,
   "metadata": {
    "pycharm": {
     "name": "#%%\n"
    }
   },
   "outputs": [],
   "source": [
    "with open('dict_tokenized_corpus.json', 'r') as f:\n",
    "    dict_corpus = json.load(f)"
   ]
  },
  {
   "cell_type": "markdown",
   "metadata": {
    "pycharm": {
     "name": "#%% md\n"
    }
   },
   "source": [
    "### Частеречную разметку произведем, создав новый словарь, где каждому слову в документе будет соответствовать тэг части речи"
   ]
  },
  {
   "cell_type": "code",
   "execution_count": 3,
   "metadata": {
    "pycharm": {
     "name": "#%%\n"
    }
   },
   "outputs": [
    {
     "name": "stdout",
     "output_type": "stream",
     "text": [
      "миф          NOUN\n",
      "обязательный ADJF\n",
      "вибрация     NOUN\n",
      "выход        NOUN\n",
      "тело         NOUN\n",
      "практика     NOUN\n",
      "вибрация     NOUN\n",
      "это          PRCL\n",
      "признак      NOUN\n",
      "скорый       ADJF\n",
      "выход        NOUN\n",
      "тело         NOUN\n",
      "угодный      ADJF\n",
      "выход        NOUN\n",
      "осознанный   ADJF\n"
     ]
    }
   ],
   "source": [
    "tagged_corpus = {}\n",
    "for key, doc in dict_corpus.items():\n",
    "    # нормализуем\n",
    "    norm_doc = [analyzer.parse(word)[0].normal_form for word in doc]\n",
    "    # проставим тэги\n",
    "    tagged_doc = [analyzer.parse(word)[0].tag.POS for word in norm_doc]\n",
    "    tagged_corpus[key] = tagged_doc\n",
    "    # удостоверимся, что части речи отмечены правильно\n",
    "    if key == '0':\n",
    "        for i in range(0, 15):\n",
    "            print('{0:12} {1}'.format(norm_doc[i], tagged_doc[i]))"
   ]
  },
  {
   "cell_type": "code",
   "execution_count": 4,
   "metadata": {
    "pycharm": {
     "name": "#%%\n"
    }
   },
   "outputs": [
    {
     "name": "stdout",
     "output_type": "stream",
     "text": [
      "['ADJF', 'NOUN', 'NOUN', 'ADVB', 'INFN', 'ADJF', 'NOUN', 'ADJF', 'NOUN', 'NOUN', 'INFN', 'ADJF', 'NOUN', 'NOUN']\n"
     ]
    }
   ],
   "source": [
    "print(tagged_corpus['29'])"
   ]
  },
  {
   "cell_type": "markdown",
   "metadata": {
    "pycharm": {
     "name": "#%% md\n"
    }
   },
   "source": [
    "### Создадим словарь, в котором будут в процентах подсчитаны доли разных частей речи для каждого документа"
   ]
  },
  {
   "cell_type": "code",
   "execution_count": 5,
   "metadata": {
    "pycharm": {
     "name": "#%%\n"
    }
   },
   "outputs": [
    {
     "name": "stdout",
     "output_type": "stream",
     "text": [
      "{'NOUN': 50.63291139240506, 'ADJF': 12.658227848101266, 'PRCL': 2.5316455696202533, 'INFN': 24.050632911392405, 'CONJ': 2.5316455696202533, 'ADVB': 6.962025316455696, 'PREP': 0.6329113924050633}\n"
     ]
    }
   ],
   "source": [
    "tags_distr = {}\n",
    "for key, doc in tagged_corpus.items():\n",
    "    doc_tags = collections.Counter(doc)\n",
    "    doc_tags_perc = {}\n",
    "    for tag, value in doc_tags.items():\n",
    "        # convert to percent\n",
    "        doc_tags_perc[tag] = value / sum(doc_tags.values()) * 100\n",
    "    tags_distr[key] = doc_tags_perc\n",
    "\n",
    "print(tags_distr['0'])"
   ]
  },
  {
   "cell_type": "markdown",
   "metadata": {
    "pycharm": {
     "name": "#%% md\n"
    }
   },
   "source": [
    "### Подсчитаем распределение и стандартное отклонение для каждой части речи во всем корпусе"
   ]
  },
  {
   "cell_type": "code",
   "execution_count": 9,
   "metadata": {
    "pycharm": {
     "name": "#%%\n"
    }
   },
   "outputs": [
    {
     "name": "stdout",
     "output_type": "stream",
     "text": [
      "[50.63291139240506, 46.18834080717489, 62.21198156682027, 53.84615384615385, 45.774647887323944]\n"
     ]
    }
   ],
   "source": [
    "corpus_tags = collections.defaultdict(list)\n",
    "for doc in tags_distr.values():\n",
    "    for tag, value in doc.items():\n",
    "        corpus_tags[tag].append(value)\n",
    "\n",
    "print(corpus_tags['NOUN'][:5])"
   ]
  },
  {
   "cell_type": "code",
   "execution_count": 11,
   "metadata": {
    "pycharm": {
     "name": "#%%\n"
    }
   },
   "outputs": [
    {
     "name": "stdout",
     "output_type": "stream",
     "text": [
      "NOUN : [45.11002362646561, 11.114618234399392]\n",
      "INFN : [27.908836522820327, 10.218078266819381]\n",
      "ADJF : [19.722417716139038, 11.743724554754698]\n",
      "ADVB : [8.579977650351763, 7.123525839565305]\n",
      "PRCL : [4.5094769396925125, 5.859008752294588]\n",
      "INTJ : [3.5164361014094156, 8.19786040470009]\n",
      "None : [2.1133274841068785, 3.5917024733511163]\n",
      "CONJ : [1.7249932123448228, 1.3257917796882164]\n",
      "NPRO : [1.3957612736632243, 1.4066849721659704]\n",
      "PREP : [1.3743061910727696, 3.4502832931751533]\n",
      "GRND : [1.1852950873722388, 1.0369271348499836]\n",
      "VERB : [1.16198501516196, 1.3765491869108488]\n",
      "NUMR : [0.9240831135650585, 0.9187683987046782]\n",
      "PRED : [0.794519684599948, 0.7315836659966097]\n",
      "ADJS : [0.7527886119561771, 0.41706253939848786]\n",
      "PRTF : [0.5573827970052156, 0.489829799539516]\n"
     ]
    }
   ],
   "source": [
    "pos_distribution = collections.defaultdict(list)\n",
    "for tag, perc_list in corpus_tags.items():\n",
    "    pos_distribution[tag].append(np.mean(perc_list))\n",
    "    pos_distribution[tag].append(np.std(perc_list))\n",
    "\n",
    "pos_distribution_sorted = {}\n",
    "tags_sorted = sorted(pos_distribution, key=pos_distribution.get, reverse=True)\n",
    "for tag in tags_sorted:\n",
    "    pos_distribution_sorted[tag] = pos_distribution[tag]\n",
    "for key, values in pos_distribution_sorted.items():\n",
    "    print(f'{key} : {values}')"
   ]
  },
  {
   "cell_type": "markdown",
   "metadata": {
    "pycharm": {
     "name": "#%% md\n"
    }
   },
   "source": [
    "### Найдем документы, в которых доля частей речи отличается более чем на два стандартных отклонения"
   ]
  },
  {
   "cell_type": "code",
   "execution_count": 12,
   "metadata": {
    "pycharm": {
     "name": "#%%\n"
    }
   },
   "outputs": [],
   "source": [
    "odd_docs = collections.defaultdict(list)\n",
    "\n",
    "for tag, params in pos_distribution_sorted.items():\n",
    "    std_lower_bound = params[0] - params[1] * 2\n",
    "    std_upper_bound = params[0] + params[1] * 2\n",
    "    for key, doc in tags_distr.items():\n",
    "        try:\n",
    "            if not std_lower_bound < doc[tag] < std_upper_bound:\n",
    "                # запишем id документа и часть речи с нетипичной долей\n",
    "                odd_docs[key].append(tag)\n",
    "                odd_docs[key].append(doc[tag])\n",
    "        # если части речи нет в документе\n",
    "        except KeyError:\n",
    "            pass"
   ]
  },
  {
   "cell_type": "code",
   "execution_count": 13,
   "metadata": {
    "pycharm": {
     "name": "#%%\n"
    }
   },
   "outputs": [
    {
     "name": "stdout",
     "output_type": "stream",
     "text": [
      "63\n",
      "defaultdict(<class 'list'>, {'14': ['NOUN', 78.57142857142857], '48': ['NOUN', 20.689655172413794, 'INFN', 58.620689655172406], '86': ['NOUN', 75.0], '117': ['NOUN', 75.0, 'ADVB', 25.0], '167': ['NOUN', 100.0], '202': ['NOUN', 20.0], '215': ['NOUN', 71.42857142857143], '230': ['NOUN', 15.151515151515152], '262': ['NOUN', 100.0], '21': ['INFN', 100.0], '37': ['INFN', 50.0], '88': ['INFN', 50.0], '110': ['INFN', 60.0, 'PRCL', 20.0], '129': ['INFN', 66.66666666666666, 'ADVB', 33.33333333333333], '168': ['INFN', 50.0, 'ADVB', 25.0], '176': ['INFN', 50.0], '244': ['INFN', 50.0, 'ADVB', 25.0], '275': ['INFN', 3.8461538461538463], '6': ['ADJF', 50.0], '24': ['ADJF', 50.0], '27': ['ADJF', 50.0, 'ADVB', 50.0], '30': ['ADJF', 50.0], '58': ['ADJF', 66.66666666666666], '104': ['ADJF', 50.0], '115': ['ADJF', 50.0], '138': ['ADJF', 66.66666666666666], '145': ['ADJF', 66.66666666666666], '151': ['ADJF', 75.0], '157': ['ADJF', 60.0], '160': ['ADJF', 50.0, 'ADVB', 50.0], '164': ['ADJF', 50.0], '186': ['ADJF', 50.0], '197': ['ADJF', 66.66666666666666], '266': ['ADJF', 75.0], '5': ['ADVB', 25.0], '92': ['ADVB', 33.33333333333333], '96': ['ADVB', 33.33333333333333], '242': ['ADVB', 33.33333333333333, 'PRCL', 33.33333333333333], '43': ['PRCL', 16.666666666666664], '130': ['PRCL', 60.0], '177': ['PRCL', 33.33333333333333], '63': ['INTJ', 50.0], '93': [None, 9.523809523809524], '193': [None, 24.475524475524477], '35': ['CONJ', 9.090909090909092], '203': ['CONJ', 4.395604395604396], '213': ['CONJ', 7.6923076923076925], '223': ['CONJ', 5.0], '236': ['CONJ', 4.761904761904762], '187': ['NPRO', 4.3478260869565215], '245': ['NPRO', 11.11111111111111], '254': ['NPRO', 5.263157894736842], '137': ['PREP', 33.33333333333333], '75': ['VERB', 4.444444444444445], '77': ['VERB', 4.444444444444445], '56': ['NUMR', 5.263157894736842], '192': ['NUMR', 3.0303030303030303], '50': ['PRED', 3.8461538461538463], '112': ['PRED', 2.380952380952381], '237': ['PRED', 3.7037037037037033], '269': ['PRED', 2.4390243902439024], '179': ['ADJS', 1.6], '15': ['PRTF', 1.7857142857142856]})\n"
     ]
    }
   ],
   "source": [
    "print(len(odd_docs))\n",
    "print(odd_docs)"
   ]
  },
  {
   "cell_type": "markdown",
   "metadata": {
    "pycharm": {
     "name": "#%% md\n"
    }
   },
   "source": [
    "### Рассмотрим некоторые нетипичные документы"
   ]
  },
  {
   "cell_type": "code",
   "execution_count": 14,
   "metadata": {
    "pycharm": {
     "name": "#%%\n"
    }
   },
   "outputs": [
    {
     "name": "stdout",
     "output_type": "stream",
     "text": [
      "21 ['INFN', 100.0] ['проснулись']\n",
      "56 ['NUMR', 5.263157894736842] ['обновления', 'мозга', 'админа', 'всё', 'друзья', 'числа', 'стартуем', 'догнать', 'семь', 'базовых', 'обновлений', 'улучшения', 'вашей', 'жизни', 'подписаться', 'подписался', 'получил', 'обновление', 'просто']\n",
      "110 ['INFN', 60.0, 'PRCL', 20.0] ['ставьте', 'проснулись', 'всё', 'ещё', 'спите']\n",
      "130 ['PRCL', 60.0] ['это', 'сон', 'это', 'лишь', 'сон']\n",
      "137 ['PREP', 33.33333333333333] ['поняла', 'вокруг', 'сон']\n",
      "157 ['ADJF', 60.0] ['доброй', 'ночи', 'ярких', 'осознанных', 'снов']\n",
      "167 ['NOUN', 100.0] ['лайфхак']\n",
      "230 ['NOUN', 15.151515151515152] ['произошло', 'странное', 'раньше', 'встречал', 'разных', 'сегодня', 'привязался', 'буквально', 'говорил', 'мной', 'словно', 'это', 'мудрец', 'вроде', 'должен', 'задавать', 'глупых', 'вопросов', 'скорей', 'те', 'помогут', 'развитие', 'почему', 'шёл', 'вёл', 'особо', 'спрашивал', 'узнал', 'это', 'вопрос', 'стену', 'заранее', 'благодарю']\n",
      "245 ['NPRO', 11.11111111111111] ['вопрос', 'касательно', 'картографии', 'удалось', 'сложить', 'места', 'события', 'одного', 'сна', 'нужной', 'последовательности', 'соединять', 'собой', 'смысле', 'собой', 'склеить', 'спасибо', 'ответы']\n",
      "275 ['INFN', 3.8461538461538463] ['вчера', 'день', 'рождения', 'лидер', 'группы', 'пилот', 'ильи', 'чёрта', 'кнабенгоф', 'давно', 'теме', 'осознанных', 'снов', 'подписчик', 'нашей', 'группы', 'ещё', 'очень', 'крутые', 'лекции', 'осознанности', 'упражнения', 'прокачки', 'ос', 'смотрите', 'например']\n"
     ]
    }
   ],
   "source": [
    "for key in ['21', '56', '110', '130', '137', '157', '167', '230', '245', '275']:\n",
    "    print(key, odd_docs[key], dict_corpus[key])"
   ]
  },
  {
   "cell_type": "markdown",
   "metadata": {
    "pycharm": {
     "name": "#%% md\n"
    }
   },
   "source": [
    "#### В подавляющем большинстве случаев нетипичная доля частей речи - целое число. Это обусловлено тем, что многие посты - это картинка с несколькими словами (документы 21, 110, 130, 137, 167). Есть интересные находки: в некоторых постах описаны сновидения, и из-за повествовательного характера текста доля существительных в документе 230 составила около 15%."
   ]
  }
 ],
 "metadata": {
  "kernelspec": {
   "display_name": "Python 3",
   "language": "python",
   "name": "python3"
  },
  "language_info": {
   "codemirror_mode": {
    "name": "ipython",
    "version": 3
   },
   "file_extension": ".py",
   "mimetype": "text/x-python",
   "name": "python",
   "nbconvert_exporter": "python",
   "pygments_lexer": "ipython3",
   "version": "3.9.2"
  }
 },
 "nbformat": 4,
 "nbformat_minor": 1
}
