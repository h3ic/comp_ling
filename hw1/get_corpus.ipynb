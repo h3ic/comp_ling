{
 "cells": [
  {
   "cell_type": "code",
   "execution_count": 111,
   "id": "green-mount",
   "metadata": {},
   "outputs": [],
   "source": [
    "import json\n",
    "import requests\n",
    "import numpy as np\n",
    "\n",
    "vk_config = {\"access_token\": \"\",\n",
    "             \"version\": \"5.130\"\n",
    "            }"
   ]
  },
  {
   "cell_type": "code",
   "execution_count": 112,
   "id": "hired-sydney",
   "metadata": {},
   "outputs": [],
   "source": [
    "owner_id = -179907 # domain 'clubos'\n",
    "count = 100\n",
    "offset = 0\n",
    "\n",
    "add_str = f'''arr.push(API.wall.get({{'owner_id':{owner_id},'count':{count},'offset':{offset}+a*{count}}}));'''\n",
    "code = ('var a = 0;' +\n",
    "        'var arr = [];' +\n",
    "        'while (a != 3) {' +\n",
    "        add_str +\n",
    "        'a = a + 1;' +\n",
    "        '};' +\n",
    "        'return arr;'\n",
    "        )\n",
    "\n",
    "response = requests.post(\n",
    "    url=\"https://api.vk.com/method/execute\",\n",
    "    data={\n",
    "        'code': code,\n",
    "        'access_token': vk_config['access_token'],\n",
    "        'v': vk_config['version']\n",
    "    }\n",
    ")\n",
    "\n",
    "data = response.json()"
   ]
  },
  {
   "cell_type": "code",
   "execution_count": 114,
   "id": "subsequent-pizza",
   "metadata": {},
   "outputs": [],
   "source": [
    "json_response = data['response']\n",
    "\n",
    "posts_data = []\n",
    "for request_index in range(len(json_response)):\n",
    "    json_items = json_response[request_index]['items']\n",
    "    for item in range(len(json_items)): \n",
    "        try:\n",
    "            text_field = json_items[item]['text']\n",
    "            if (json_items[item]['marked_as_ads'] == 0) and (len(text_field) > 0):\n",
    "                posts_data.append(text_field)\n",
    "                \n",
    "        except IndexError:\n",
    "            continue\n",
    "\n",
    "with open(\"corpus.json\", \"w\") as f:\n",
    "    json.dump(posts_data, f, ensure_ascii=False)"
   ]
  },
  {
   "cell_type": "code",
   "execution_count": 115,
   "id": "breeding-trainer",
   "metadata": {},
   "outputs": [
    {
     "data": {
      "text/plain": [
       "'Миф об обязательных вибрациях при выходе из тела \\nПРАКТИКА \\n \\nВибрации - это признак скорого выхода из тела или, если угодно, выхода в осознанный сон. Учёные связывают это с процессом возникновения сновидения. В этом состоянии тело начинает входить в паралич, чтобы не повторять движения из сна 😴 \\n \\nВибрации похожи на дрожь от электрического тока, только без боли, либо на дрожь от холода. Если вы испытываете вибрации, значит, из этого состояние очень легко выйти из тела! \\n \\nВибрации испытывал каждый, кто хоть раз говорил: «Меня аж передёрнуло от этого» 😀 Только такие вибрации длятся секунду, а вибрации при выходе из тела чуть дольше. \\n \\nДля того, чтобы почувствовать это состоянии прямо сейчас сделайте следующее: закройте глаза и представьте точку на уровне глаз на расстоянии 40 см и медленно её отдаляйте от тела. Чувствуете вибрации? У меня они наступают даже без расслабления. \\n \\nНо надо понимать, что вибрации не всегда наступают при выходе из тела. Хотя они и случаются часто. Пока непонятно из-за чего они возникают 🛌 Может это вообще галлюцинация, и на самом деле тело не трясёт. Если бы трясло, то вибрации можно было бы зафиксировать приборами. \\n \\nНе надо ставить целью – добиться этих самых вибраций. Такая позиция неправильная! Как я уже сказал - их вообще может не быть при выходе из тела. Либо они будут, но вы их проигнорируете. Помните, что цель не вибрации, а осознаться во сне! \\n \\n💯Другие техники для выхода из тела прямым методом вы можете узнать на курсе «Прямой метод». До конца дня вы можете вписаться в курс за 1000 рублей, вместо 3500 рублей\\n\\nЧтобы купить этот курс, напишите мне в группу (вот сюда https://vk.me/clubos) «Прямой метод» я вам отправлю реквизиты для оплаты. \\n\\n🏃Купить этот курс со скидкой можно только сегодня!'"
      ]
     },
     "execution_count": 115,
     "metadata": {},
     "output_type": "execute_result"
    }
   ],
   "source": [
    "posts_data[0]"
   ]
  },
  {
   "cell_type": "code",
   "execution_count": 116,
   "id": "lyric-lottery",
   "metadata": {},
   "outputs": [
    {
     "name": "stdout",
     "output_type": "stream",
     "text": [
      "[280, 384, 334, 340, 1350, 50, 5, 11, 96, 289, 32, 9, 291, 84, 21, 100, 220, 325, 3, 19, 191, 1, 207, 261, 8, 73, 135, 3, 49, 22, 2, 32, 1070, 84, 361, 17, 832, 2, 374, 378, 4, 72, 60, 24, 244, 18, 204, 84, 60, 438, 41, 154, 79, 32, 796, 45, 38, 117, 8, 138, 225, 136, 366, 5, 578, 165, 19, 158, 9, 8, 80, 579, 91, 15, 94, 168, 218, 168, 27, 357, 35, 693, 207, 89, 310, 281, 5, 75, 4, 920, 8, 7, 12, 34, 261, 261, 4, 921, 80, 75, 7, 35, 622, 164, 2, 401, 257, 1039, 334, 880, 9, 42, 242, 98, 796, 2, 1018, 6, 406, 230, 357, 29, 216, 10, 1072, 335, 62, 10, 660, 6, 6, 264, 358, 88, 486, 521, 367, 5, 7, 830, 403, 4, 166, 183, 164, 4, 153, 877, 103, 46, 161, 4, 288, 142, 97, 22, 259, 6, 578, 78, 3, 324, 215, 165, 2, 2356, 380, 1, 8, 175, 316, 61, 246, 67, 84, 40, 4, 4, 771, 251, 1345, 10, 372, 54, 1042, 582, 2, 41, 261, 176, 334, 166, 61, 189, 910, 534, 37, 4, 1071, 283, 55, 170, 7, 176, 827, 84, 105, 1937, 328, 87, 65, 53, 7, 26, 1242, 9, 305, 325, 61, 44, 404, 222, 39, 71, 47, 84, 299, 52, 272, 371, 83, 92, 10, 267, 327, 160, 33, 39, 399, 325, 18, 334, 6, 263, 7, 33, 152, 172, 57, 60, 219, 75, 43, 66, 41, 129, 8, 223, 331, 65, 222, 324, 7, 350, 147, 343, 4, 126, 42, 78, 9, 343, 46, 10, 43, 39, 236, 256]\n"
     ]
    }
   ],
   "source": [
    "text_len = []\n",
    "\n",
    "for text in posts_data:\n",
    "    words = text.split()\n",
    "    text_len.append(len(words))\n",
    "\n",
    "print(text_len)"
   ]
  },
  {
   "cell_type": "code",
   "execution_count": 117,
   "id": "magnetic-technique",
   "metadata": {},
   "outputs": [
    {
     "name": "stdout",
     "output_type": "stream",
     "text": [
      "Количество документов в корпусе 278\n",
      "Количество слов в корпусе: 62149\n",
      "Медианное количество слов в документе: 99.0\n"
     ]
    }
   ],
   "source": [
    "print('Количество документов в корпусе', len(posts_data))\n",
    "print('Количество слов в корпусе:', sum(text_len))\n",
    "print('Медианное количество слов в документе:', np.median(text_len))"
   ]
  }
 ],
 "metadata": {
  "kernelspec": {
   "display_name": "Python 3",
   "language": "python",
   "name": "python3"
  },
  "language_info": {
   "codemirror_mode": {
    "name": "ipython",
    "version": 3
   },
   "file_extension": ".py",
   "mimetype": "text/x-python",
   "name": "python",
   "nbconvert_exporter": "python",
   "pygments_lexer": "ipython3",
   "version": "3.8.5"
  }
 },
 "nbformat": 4,
 "nbformat_minor": 5
}
