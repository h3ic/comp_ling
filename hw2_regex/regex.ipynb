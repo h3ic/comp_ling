{
 "cells": [
  {
   "cell_type": "code",
   "execution_count": 1,
   "id": "piano-honor",
   "metadata": {},
   "outputs": [],
   "source": [
    "import re\n",
    "import json"
   ]
  },
  {
   "cell_type": "markdown",
   "id": "compact-bunny",
   "metadata": {},
   "source": [
    "## 2.1 Задачи на регулярные выражения"
   ]
  },
  {
   "cell_type": "markdown",
   "id": "british-distributor",
   "metadata": {},
   "source": [
    "1. Напишите регулярное выражение, которое возвращает список первых двух букв каждого слова строки.\n",
    "<br>\n",
    "Обратите внимание на работу с дефисом."
   ]
  },
  {
   "cell_type": "code",
   "execution_count": 75,
   "id": "approved-dealing",
   "metadata": {},
   "outputs": [
    {
     "data": {
      "text/plain": [
       "['Лю', 'ма', 'Лю', 'ни', 'пы', 'не', 'уж', 'то', 'их', 'ум', 'ва']"
      ]
     },
     "execution_count": 75,
     "metadata": {},
     "output_type": "execute_result"
    }
   ],
   "source": [
    "text = 'Люблю я макароны, Любовью к ним пылаю неземною. (уж я-то их умею варить)'\n",
    "re.findall(r'\\b[а-яA-яa-zA-z]{2}', text)"
   ]
  },
  {
   "cell_type": "markdown",
   "id": "inappropriate-account",
   "metadata": {},
   "source": [
    "2. Напишите регулярное выражение, которое выбирает из строки все слова, в которых\n",
    "строго больше 3 символов."
   ]
  },
  {
   "cell_type": "code",
   "execution_count": 71,
   "id": "generous-shield",
   "metadata": {},
   "outputs": [
    {
     "data": {
      "text/plain": [
       "['Люблю', 'макароны', 'Любовью', 'пылаю', 'неземною', 'я-то', 'умею', 'варить']"
      ]
     },
     "execution_count": 71,
     "metadata": {},
     "output_type": "execute_result"
    }
   ],
   "source": [
    "text = 'Люблю я макароны, Любовью к ним пылаю неземною. (уж я-то их умею варить)'\n",
    "re.findall(r'[а-яA-яa-zA-z-]{4,}', text)"
   ]
  },
  {
   "cell_type": "markdown",
   "id": "suspended-adventure",
   "metadata": {},
   "source": [
    "3. Напишите регулярное выражение, которое заменит все подстроки, обозначающие\n",
    "время (только время, не даты), в строке на TBD."
   ]
  },
  {
   "cell_type": "code",
   "execution_count": 2,
   "id": "standing-causing",
   "metadata": {},
   "outputs": [
    {
     "data": {
      "text/plain": [
       "'Сварил макароны в TBD. В TBD помыл 91 тарелку'"
      ]
     },
     "execution_count": 2,
     "metadata": {},
     "output_type": "execute_result"
    }
   ],
   "source": [
    "text = 'Сварил макароны в 17:29. В 17:31:09 помыл 91 тарелку'\n",
    "re.sub(r'\\d{2}:(\\d{2}:?)+', 'TBD', text)"
   ]
  },
  {
   "cell_type": "markdown",
   "id": "communist-active",
   "metadata": {},
   "source": [
    "4. Напишите регулярное выражение, которое заменяет произвольное количество\n",
    "пробельных символов внутри строки на один пробел."
   ]
  },
  {
   "cell_type": "code",
   "execution_count": 5,
   "id": "absolute-crest",
   "metadata": {},
   "outputs": [
    {
     "data": {
      "text/plain": [
       "'Люблю я макароны, Любовью к ним пылаю неземною. (уж я-то их умею варить)'"
      ]
     },
     "execution_count": 5,
     "metadata": {},
     "output_type": "execute_result"
    }
   ],
   "source": [
    "text = 'Люблю я   макароны, Любовью  к  ним      пылаю неземною. (уж я-то их умею варить)'\n",
    "re.sub(r'\\s+', ' ', text)"
   ]
  },
  {
   "cell_type": "markdown",
   "id": "random-background",
   "metadata": {},
   "source": [
    "5. Напишите регулярное выражение, которое удаляет идущие подряд повторы. Одно\n",
    "слово из группы должно остаться."
   ]
  },
  {
   "cell_type": "code",
   "execution_count": 6,
   "id": "simple-mortgage",
   "metadata": {},
   "outputs": [
    {
     "data": {
      "text/plain": [
       "'Люблю я макароны, Любовью к ним пылаю неземною. (уж я-то их умею варить)'"
      ]
     },
     "execution_count": 6,
     "metadata": {},
     "output_type": "execute_result"
    }
   ],
   "source": [
    "text = 'Люблю я макаронымакароны, Любовью к ним пылаю неземноюнеземною. (уж я-то ихих умею варить)'\n",
    "re.sub(r'(\\b\\w+)(?=\\1)', '', text)"
   ]
  },
  {
   "cell_type": "markdown",
   "id": "demonstrated-hampton",
   "metadata": {},
   "source": [
    "6. Напишите регулярное выражение, которое определяет, что подстрока является\n",
    "адресом электронной почты."
   ]
  },
  {
   "cell_type": "code",
   "execution_count": 7,
   "id": "practical-version",
   "metadata": {},
   "outputs": [
    {
     "data": {
      "text/plain": [
       "'nagib.ator392@gmail.com'"
      ]
     },
     "execution_count": 7,
     "metadata": {},
     "output_type": "execute_result"
    }
   ],
   "source": [
    "text = 'Почта: nagib.ator392@gmail.com; Не почта: krasoto4ka@yandexru'\n",
    "res = re.search(r'\\S+@\\w+\\.\\w+', text)\n",
    "res.group()"
   ]
  },
  {
   "cell_type": "markdown",
   "id": "alleged-prospect",
   "metadata": {},
   "source": [
    "7. Напишите регулярное выражение, которое возвращает список аббревиатур в строке."
   ]
  },
  {
   "cell_type": "code",
   "execution_count": 8,
   "id": "extreme-illness",
   "metadata": {},
   "outputs": [
    {
     "data": {
      "text/plain": [
       "['КГБ', 'NASA', 'РФ']"
      ]
     },
     "execution_count": 8,
     "metadata": {},
     "output_type": "execute_result"
    }
   ],
   "source": [
    "text = 'КГБ лед NASA дерево yankee РФ'\n",
    "re.findall(r'[А-ЯA-Z]+', text)"
   ]
  },
  {
   "cell_type": "markdown",
   "id": "super-enhancement",
   "metadata": {},
   "source": [
    "8. Напишите регулярное выражение, которое разделяет текст на предложения."
   ]
  },
  {
   "cell_type": "code",
   "execution_count": 9,
   "id": "cross-intro",
   "metadata": {},
   "outputs": [
    {
     "data": {
      "text/plain": [
       "['Люблю я макароны', 'Любовью к ним пылаю неземною', 'Уж я-то их умею варить']"
      ]
     },
     "execution_count": 9,
     "metadata": {},
     "output_type": "execute_result"
    }
   ],
   "source": [
    "text = 'Люблю я макароны? Любовью к ним пылаю неземною! Уж я-то их умею варить'\n",
    "re.split(r'[.!?]\\s', text)"
   ]
  },
  {
   "cell_type": "markdown",
   "id": "compressed-kelly",
   "metadata": {},
   "source": [
    "9. Напишите регулярное выражение, которое определяет, что строка является номером российского мобильного телефона любого оператора.\n",
    "<br>\n",
    "(По заданию должен использоваться re.match(), но для наглядности выбрал re.findall())"
   ]
  },
  {
   "cell_type": "code",
   "execution_count": 10,
   "id": "reported-lending",
   "metadata": {},
   "outputs": [
    {
     "data": {
      "text/plain": [
       "['+7(900)111-22-33', '+79001112233', '8(900)111-22-33', '8-(400)-111-22-33']"
      ]
     },
     "execution_count": 10,
     "metadata": {},
     "output_type": "execute_result"
    }
   ],
   "source": [
    "text = '+7(900)111-22-33, +79001112233, 8(900)111-22-33, 8-(400)-111-22-33'\n",
    "re.findall(r'(?:(?:\\+7)|8)\\-?\\(?\\d{3}\\)?\\-?\\d{3}\\-?\\d{2}\\-?\\d{2}', text)"
   ]
  },
  {
   "cell_type": "markdown",
   "id": "original-semester",
   "metadata": {},
   "source": [
    "10. Напишите регулярное выражение, которое проверяет, что все предложения в строке\n",
    "начинаются с заглавной буквы."
   ]
  },
  {
   "cell_type": "code",
   "execution_count": 11,
   "id": "derived-argument",
   "metadata": {},
   "outputs": [
    {
     "data": {
      "text/plain": [
       "'Люблю я макароны, любовью к Ним пылаю неземною! Уж я-то их умею варить.'"
      ]
     },
     "execution_count": 11,
     "metadata": {},
     "output_type": "execute_result"
    }
   ],
   "source": [
    "text = 'Люблю я макароны, любовью к Ним пылаю неземною! Уж я-то их умею варить.'\n",
    "result = re.match(r'(\\s?[А-ЯA-Z][А-ЯA-Zа-яa-z,;\\-\\s]+[.?!])*', text)\n",
    "result.group()"
   ]
  },
  {
   "cell_type": "markdown",
   "id": "designed-implement",
   "metadata": {},
   "source": [
    "## 2.2 Регулярные выражения для очистки корпуса текстов"
   ]
  },
  {
   "cell_type": "code",
   "execution_count": 54,
   "id": "generic-category",
   "metadata": {},
   "outputs": [],
   "source": [
    "with open('corpus.json', 'r') as f:\n",
    "    corpus_json = json.load(f)"
   ]
  },
  {
   "cell_type": "code",
   "execution_count": 55,
   "id": "valued-leonard",
   "metadata": {},
   "outputs": [
    {
     "data": {
      "text/plain": [
       "'Миф об обязательных вибрациях при выходе из тела \\nПРАКТИКА \\n \\nВибрации - это признак скорого выхода из тела или, если угодно, выхода в осознанный сон. Учёные связывают это с процессом возникновения сновидения. В этом состоянии тело начинает входить в паралич, чтобы не повторять движения из сна 😴 \\n \\nВибрации похожи на дрожь от электрического тока, только без боли, либо на дрожь от холода. Если вы испытываете вибрации, значит, из этого состояние очень легко выйти из тела! \\n \\nВибрации испытывал каждый, кто хоть раз говорил: «Меня аж передёрнуло от этого» 😀 Только такие вибрации длятся секунду, а вибрации при выходе из тела чуть дольше. \\n \\nДля того, чтобы почувствовать это состоянии прямо сейчас сделайте следующее: закройте глаза и представьте точку на уровне глаз на расстоянии 40 см и медленно её отдаляйте от тела. Чувствуете вибрации? У меня они наступают даже без расслабления. \\n \\nНо надо понимать, что вибрации не всегда наступают при выходе из тела. Хотя они и случаются часто. Пока непонятно из-за чего они возникают 🛌 Может это вообще галлюцинация, и на самом деле тело не трясёт. Если бы трясло, то вибрации можно было бы зафиксировать приборами. \\n \\nНе надо ставить целью – добиться этих самых вибраций. Такая позиция неправильная! Как я уже сказал - их вообще может не быть при выходе из тела. Либо они будут, но вы их проигнорируете. Помните, что цель не вибрации, а осознаться во сне! \\n \\n💯Другие техники для выхода из тела прямым методом вы можете узнать на курсе «Прямой метод». До конца дня вы можете вписаться в курс за 1000 рублей, вместо 3500 рублей\\n\\nЧтобы купить этот курс, напишите мне в группу (вот сюда https://vk.me/clubos) «Прямой метод» я вам отправлю реквизиты для оплаты. \\n\\n🏃Купить этот курс со скидкой можно только сегодня!'"
      ]
     },
     "execution_count": 55,
     "metadata": {},
     "output_type": "execute_result"
    }
   ],
   "source": [
    "corpus_json[0]"
   ]
  },
  {
   "cell_type": "markdown",
   "id": "compact-catalyst",
   "metadata": {},
   "source": [
    "C помощью регулярных выражений из текста целесообразно убрать следующие элементы:\n",
    "- Символы перехода на новую строку \\n (заменим на пробел, чтобы слова на разных строках разделялись)\n",
    "- Ссылки (url_pattern - не ультимативный шаблон, но достаточный для данного корпуса)\n",
    "- Эмодзи - используем юникод-паттерны вида \\UXXXXXXXX или \\uxxxx<br>(emoji_pattern - основа взята [отсюда](https://stackoverflow.com/questions/33404752/removing-emojis-from-a-string-in-python), добавлены недостающие эмодзи\n",
    "- Конструкции вида [idxxxxx|ИМЯ ФАМИЛИЯ] (brackets_id_pattern)"
   ]
  },
  {
   "cell_type": "code",
   "execution_count": 56,
   "id": "sealed-missouri",
   "metadata": {},
   "outputs": [],
   "source": [
    "emoji_pattern = re.compile('['\n",
    "        u'\\U0001F600-\\U0001F64F'\n",
    "        u'\\U0001F300-\\U0001F5FF'\n",
    "        u'\\U0001F680-\\U0001F6FF'\n",
    "        u'\\U0001F1E0-\\U0001F1FF'\n",
    "        u'\\U0001F1F2-\\U0001F1F4'\n",
    "        u'\\U0001F1E6-\\U0001F1FF'  \n",
    "        u'\\U0001F600-\\U0001F64F'\n",
    "        u'\\U00002702-\\U000027B0'\n",
    "        u'\\U000024C2-\\U0001F251'\n",
    "        u'\\U0001f926-\\U0001f937'\n",
    "        u'\\U0001F1F2'\n",
    "        u'\\U0001F1F4'\n",
    "        u'\\U0001F620'\n",
    "        u'\\u200d'\n",
    "        u'\\u2640-\\u2642'\n",
    "        u'\\U0001F919'  # added emojis\n",
    "        u'\\U000026E9'\n",
    "        u'\\U0001F913'\n",
    "        u'\\U0001F9D0'\n",
    "        u'\\U00002705'\n",
    "        u'\\U00002753'\n",
    "        u'\\U0001F926'\n",
    "        u'\\U0001F937'\n",
    "        u'\\U0001F918'\n",
    "        u'\\U0001F9ED'\n",
    "        ']+', flags=re.UNICODE)\n",
    "\n",
    "url_pattern = re.compile(r'https?://(?:www\\.)?(?:[-a-zA-Z0-9@:%._\\+~#=/?&]+)')\n",
    "brackets_id_pattern = re.compile(r'\\[\\w+\\|\\w+\\-?\\w+?\\s?\\w+\\-?\\w+?\\]')"
   ]
  },
  {
   "cell_type": "code",
   "execution_count": 57,
   "id": "corrected-moscow",
   "metadata": {},
   "outputs": [],
   "source": [
    "edited_corpus = []\n",
    "for i, doc in enumerate(corpus_json):\n",
    "    edited_doc = re.sub('\\n', ' ', corpus_json[i])\n",
    "    edited_doc = emoji_pattern.sub('', edited_doc)\n",
    "    edited_doc = url_pattern.sub('', edited_doc)\n",
    "    edited_doc = brackets_id_pattern.sub('', edited_doc)\n",
    "    edited_corpus.append(edited_doc)"
   ]
  },
  {
   "cell_type": "markdown",
   "id": "accepting-stability",
   "metadata": {},
   "source": [
    "Очищенный текст выглядит следующим образом:"
   ]
  },
  {
   "cell_type": "code",
   "execution_count": 58,
   "id": "final-walker",
   "metadata": {},
   "outputs": [
    {
     "data": {
      "text/plain": [
       "'Миф об обязательных вибрациях при выходе из тела  ПРАКТИКА    Вибрации - это признак скорого выхода из тела или, если угодно, выхода в осознанный сон. Учёные связывают это с процессом возникновения сновидения. В этом состоянии тело начинает входить в паралич, чтобы не повторять движения из сна     Вибрации похожи на дрожь от электрического тока, только без боли, либо на дрожь от холода. Если вы испытываете вибрации, значит, из этого состояние очень легко выйти из тела!    Вибрации испытывал каждый, кто хоть раз говорил: «Меня аж передёрнуло от этого»  Только такие вибрации длятся секунду, а вибрации при выходе из тела чуть дольше.    Для того, чтобы почувствовать это состоянии прямо сейчас сделайте следующее: закройте глаза и представьте точку на уровне глаз на расстоянии 40 см и медленно её отдаляйте от тела. Чувствуете вибрации? У меня они наступают даже без расслабления.    Но надо понимать, что вибрации не всегда наступают при выходе из тела. Хотя они и случаются часто. Пока непонятно из-за чего они возникают  Может это вообще галлюцинация, и на самом деле тело не трясёт. Если бы трясло, то вибрации можно было бы зафиксировать приборами.    Не надо ставить целью – добиться этих самых вибраций. Такая позиция неправильная! Как я уже сказал - их вообще может не быть при выходе из тела. Либо они будут, но вы их проигнорируете. Помните, что цель не вибрации, а осознаться во сне!    Другие техники для выхода из тела прямым методом вы можете узнать на курсе «Прямой метод». До конца дня вы можете вписаться в курс за 1000 рублей, вместо 3500 рублей  Чтобы купить этот курс, напишите мне в группу (вот сюда ) «Прямой метод» я вам отправлю реквизиты для оплаты.   Купить этот курс со скидкой можно только сегодня!'"
      ]
     },
     "execution_count": 58,
     "metadata": {},
     "output_type": "execute_result"
    }
   ],
   "source": [
    "edited_corpus[0]"
   ]
  },
  {
   "cell_type": "code",
   "execution_count": 59,
   "id": "stopped-general",
   "metadata": {},
   "outputs": [],
   "source": [
    "with open('edited_corpus.json', 'w') as f:\n",
    "    json.dump(edited_corpus, f, ensure_ascii=False)"
   ]
  }
 ],
 "metadata": {
  "kernelspec": {
   "display_name": "Python 3",
   "language": "python",
   "name": "python3"
  },
  "language_info": {
   "codemirror_mode": {
    "name": "ipython",
    "version": 3
   },
   "file_extension": ".py",
   "mimetype": "text/x-python",
   "name": "python",
   "nbconvert_exporter": "python",
   "pygments_lexer": "ipython3",
   "version": "3.8.5"
  }
 },
 "nbformat": 4,
 "nbformat_minor": 5
}
