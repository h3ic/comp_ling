{
 "cells": [
  {
   "cell_type": "code",
   "execution_count": 104,
   "outputs": [],
   "source": [
    "import json\n",
    "import re\n",
    "import pandas as pd\n",
    "import warnings\n",
    "from natasha import Doc, Segmenter, MorphVocab, NewsEmbedding,\\\n",
    "    NewsMorphTagger, NewsNERTagger\n",
    "\n",
    "from sklearn.feature_extraction.text import CountVectorizer\n",
    "from sklearn.feature_extraction.text import TfidfTransformer\n",
    "from sklearn.pipeline import Pipeline\n",
    "from sklearn import metrics\n",
    "from sklearn.cluster import KMeans\n",
    "\n",
    "import pymorphy2\n",
    "analyzer = pymorphy2.MorphAnalyzer()\n",
    "warnings.simplefilter('ignore')\n",
    "\n",
    "segmenter = Segmenter()\n",
    "embedding = NewsEmbedding()\n",
    "morph_tagger = NewsMorphTagger(embedding)\n",
    "morph_vocab = MorphVocab()\n",
    "ner_tagger = NewsNERTagger(embedding)"
   ],
   "metadata": {
    "collapsed": false,
    "pycharm": {
     "name": "#%%\n"
    }
   }
  },
  {
   "cell_type": "markdown",
   "source": [
    "### Преобразуем корпус в датафрейм"
   ],
   "metadata": {
    "collapsed": false,
    "pycharm": {
     "name": "#%% md\n"
    }
   }
  },
  {
   "cell_type": "code",
   "execution_count": 105,
   "outputs": [],
   "source": [
    "with open('dict_corpus.json', 'r') as f:\n",
    "    corpus = json.load(f)\n",
    "\n",
    "titles = list(corpus.keys())\n",
    "texts = list(corpus.values())\n",
    "df = pd.DataFrame.from_dict({'title':titles, 'text':texts})"
   ],
   "metadata": {
    "collapsed": false,
    "pycharm": {
     "name": "#%%\n"
    }
   }
  },
  {
   "cell_type": "code",
   "execution_count": 106,
   "outputs": [
    {
     "data": {
      "text/plain": "  title                                               text\n0     0  Миф об обязательных вибрациях при выходе из те...\n1     1  Где находится астрал и почему я его не вижу   ...\n2     2  Прямой метод - это техника входа в фазу, осозн...\n3     3  Виды техник осознанного сновидения   Даже тот,...\n4     4  Почему люди ходят во сне   Вопрос «Куда нас ув...",
      "text/html": "<div>\n<style scoped>\n    .dataframe tbody tr th:only-of-type {\n        vertical-align: middle;\n    }\n\n    .dataframe tbody tr th {\n        vertical-align: top;\n    }\n\n    .dataframe thead th {\n        text-align: right;\n    }\n</style>\n<table border=\"1\" class=\"dataframe\">\n  <thead>\n    <tr style=\"text-align: right;\">\n      <th></th>\n      <th>title</th>\n      <th>text</th>\n    </tr>\n  </thead>\n  <tbody>\n    <tr>\n      <th>0</th>\n      <td>0</td>\n      <td>Миф об обязательных вибрациях при выходе из те...</td>\n    </tr>\n    <tr>\n      <th>1</th>\n      <td>1</td>\n      <td>Где находится астрал и почему я его не вижу   ...</td>\n    </tr>\n    <tr>\n      <th>2</th>\n      <td>2</td>\n      <td>Прямой метод - это техника входа в фазу, осозн...</td>\n    </tr>\n    <tr>\n      <th>3</th>\n      <td>3</td>\n      <td>Виды техник осознанного сновидения   Даже тот,...</td>\n    </tr>\n    <tr>\n      <th>4</th>\n      <td>4</td>\n      <td>Почему люди ходят во сне   Вопрос «Куда нас ув...</td>\n    </tr>\n  </tbody>\n</table>\n</div>"
     },
     "execution_count": 106,
     "metadata": {},
     "output_type": "execute_result"
    }
   ],
   "source": [
    "df.head()"
   ],
   "metadata": {
    "collapsed": false,
    "pycharm": {
     "name": "#%%\n"
    }
   }
  },
  {
   "cell_type": "markdown",
   "source": [
    "### Функция для сегментации, токенизации и лемматизации текста с последующим выделением именованных сущностей."
   ],
   "metadata": {
    "collapsed": false,
    "pycharm": {
     "name": "#%% md\n"
    }
   }
  },
  {
   "cell_type": "code",
   "execution_count": 140,
   "outputs": [],
   "source": [
    "stop_w_entities = {'Здравствуйте'}\n",
    "\n",
    "def get_ner(transcript):\n",
    "    script = Doc(re.sub(r'\\((.*?)\\)', \"\", transcript))\n",
    "    script.segment(segmenter)\n",
    "    script.tag_morph(morph_tagger)\n",
    "    for token in script.tokens:\n",
    "        token.lemmatize(morph_vocab)\n",
    "    script.tag_ner(ner_tagger)\n",
    "    for span in script.spans:\n",
    "        span.normalize(morph_vocab)\n",
    "    named_ents = [(i.text, i.type, i.normal) for i in script.spans]\n",
    "    normed_ents = []\n",
    "    for word, tag, norm in named_ents:\n",
    "        if word not in stop_w_entities and analyzer.parse(word.lower())[0].tag.POS == 'NOUN':\n",
    "            if len(word.split()) == 1 and tag == \"LOC\":\n",
    "                for gram in range(len(analyzer.parse(word))):\n",
    "                    if \"Geox\" in analyzer.parse(word)[gram].tag:\n",
    "                        normed_ents.append((analyzer.parse(word)[gram].normal_form))\n",
    "                        break\n",
    "                    elif gram == len(analyzer.parse(word)) - 1:\n",
    "                        normed_ents.append((norm.lower().strip(\".,!?;-\")))\n",
    "            else:\n",
    "                normed_ents.append((norm.lower().strip(\".,!?;-\")))\n",
    "    return sorted(normed_ents)"
   ],
   "metadata": {
    "collapsed": false,
    "pycharm": {
     "name": "#%%\n"
    }
   }
  },
  {
   "cell_type": "code",
   "execution_count": 141,
   "outputs": [
    {
     "name": "stdout",
     "output_type": "stream",
     "text": [
      "106 278\n"
     ]
    },
    {
     "data": {
      "text/plain": "    title                                               text  \\\n0       0  Миф об обязательных вибрациях при выходе из те...   \n1       1  Где находится астрал и почему я его не вижу   ...   \n2       2  Прямой метод - это техника входа в фазу, осозн...   \n3       3  Виды техник осознанного сновидения   Даже тот,...   \n4       4  Почему люди ходят во сне   Вопрос «Куда нас ув...   \n..    ...                                                ...   \n261   261  Где находится астрал и почему я его не вижу   ...   \n264   264  Об исследовании выхода из тела  Существует бол...   \n267   267  Здравствуйте  Задумывались ли вы когда-нибудь ...   \n275   275  Вчера был день рождения у лидер группы \"Пилот\"...   \n276   276  Астрал: особенности мира и отличия от осознанн...   \n\n                                        named_entities  \n0                             [вибрация, прямой метод]  \n1                               [астрал, прямой метод]  \n2    [вто, прямой метод, прямой метод, роберт брюс,...  \n3                          [прямой метод, степан юсин]  \n4    [бдг-фазе, билтон, верховный суд, вопрос, джей...  \n..                                                 ...  \n261                     [акаши, астрал, хроники акаши]  \n264            [голландский институт мозг, дик свааба]  \n267                                          [таланты]  \n275                                 [кнабенгоф, пилот]  \n276                                        [хочу клуб]  \n\n[106 rows x 3 columns]",
      "text/html": "<div>\n<style scoped>\n    .dataframe tbody tr th:only-of-type {\n        vertical-align: middle;\n    }\n\n    .dataframe tbody tr th {\n        vertical-align: top;\n    }\n\n    .dataframe thead th {\n        text-align: right;\n    }\n</style>\n<table border=\"1\" class=\"dataframe\">\n  <thead>\n    <tr style=\"text-align: right;\">\n      <th></th>\n      <th>title</th>\n      <th>text</th>\n      <th>named_entities</th>\n    </tr>\n  </thead>\n  <tbody>\n    <tr>\n      <th>0</th>\n      <td>0</td>\n      <td>Миф об обязательных вибрациях при выходе из те...</td>\n      <td>[вибрация, прямой метод]</td>\n    </tr>\n    <tr>\n      <th>1</th>\n      <td>1</td>\n      <td>Где находится астрал и почему я его не вижу   ...</td>\n      <td>[астрал, прямой метод]</td>\n    </tr>\n    <tr>\n      <th>2</th>\n      <td>2</td>\n      <td>Прямой метод - это техника входа в фазу, осозн...</td>\n      <td>[вто, прямой метод, прямой метод, роберт брюс,...</td>\n    </tr>\n    <tr>\n      <th>3</th>\n      <td>3</td>\n      <td>Виды техник осознанного сновидения   Даже тот,...</td>\n      <td>[прямой метод, степан юсин]</td>\n    </tr>\n    <tr>\n      <th>4</th>\n      <td>4</td>\n      <td>Почему люди ходят во сне   Вопрос «Куда нас ув...</td>\n      <td>[бдг-фазе, билтон, верховный суд, вопрос, джей...</td>\n    </tr>\n    <tr>\n      <th>...</th>\n      <td>...</td>\n      <td>...</td>\n      <td>...</td>\n    </tr>\n    <tr>\n      <th>261</th>\n      <td>261</td>\n      <td>Где находится астрал и почему я его не вижу   ...</td>\n      <td>[акаши, астрал, хроники акаши]</td>\n    </tr>\n    <tr>\n      <th>264</th>\n      <td>264</td>\n      <td>Об исследовании выхода из тела  Существует бол...</td>\n      <td>[голландский институт мозг, дик свааба]</td>\n    </tr>\n    <tr>\n      <th>267</th>\n      <td>267</td>\n      <td>Здравствуйте  Задумывались ли вы когда-нибудь ...</td>\n      <td>[таланты]</td>\n    </tr>\n    <tr>\n      <th>275</th>\n      <td>275</td>\n      <td>Вчера был день рождения у лидер группы \"Пилот\"...</td>\n      <td>[кнабенгоф, пилот]</td>\n    </tr>\n    <tr>\n      <th>276</th>\n      <td>276</td>\n      <td>Астрал: особенности мира и отличия от осознанн...</td>\n      <td>[хочу клуб]</td>\n    </tr>\n  </tbody>\n</table>\n<p>106 rows × 3 columns</p>\n</div>"
     },
     "execution_count": 141,
     "metadata": {},
     "output_type": "execute_result"
    }
   ],
   "source": [
    "df[\"named_entities\"] = df.apply(lambda row: get_ner(row[\"text\"]), axis=1)\n",
    "has_ner = [i for i in df.index.values if df.named_entities[i]]\n",
    "df_ner = df[df.index.isin(has_ner)]\n",
    "print(len(has_ner), df.shape[0])\n",
    "df_ner"
   ],
   "metadata": {
    "collapsed": false,
    "pycharm": {
     "name": "#%%\n"
    }
   }
  },
  {
   "cell_type": "markdown",
   "source": [
    "### Итак, имеем датафрейм, где для каждого документа выделены именованные сущности"
   ],
   "metadata": {
    "collapsed": false,
    "pycharm": {
     "name": "#%% md\n"
    }
   }
  },
  {
   "cell_type": "code",
   "execution_count": 143,
   "outputs": [
    {
     "name": "stdout",
     "output_type": "stream",
     "text": [
      "Всего сущностей: 460\n",
      "Уникальных: 322\n"
     ]
    }
   ],
   "source": [
    "ner_voc = []\n",
    "for row in df_ner.named_entities.tolist():\n",
    "    ner_voc.extend(row)\n",
    "print(f'Всего сущностей: {len(ner_voc)}\\nУникальных: {len(set(ner_voc))}')"
   ],
   "metadata": {
    "collapsed": false,
    "pycharm": {
     "name": "#%%\n"
    }
   }
  },
  {
   "cell_type": "code",
   "execution_count": 144,
   "outputs": [],
   "source": [
    "vocabulary = sorted(set(ner_voc))\n",
    "corpus = df_ner.named_entities.apply(str).tolist()"
   ],
   "metadata": {
    "collapsed": false,
    "pycharm": {
     "name": "#%%\n"
    }
   }
  },
  {
   "cell_type": "code",
   "execution_count": 161,
   "outputs": [
    {
     "data": {
      "text/plain": "KMeans(algorithm='full', max_iter=600, n_clusters=10, precompute_distances=True)"
     },
     "execution_count": 161,
     "metadata": {},
     "output_type": "execute_result"
    }
   ],
   "source": [
    "pipe = Pipeline([('count', CountVectorizer(vocabulary=vocabulary)),\n",
    "                 ('tfid', TfidfTransformer())]).fit(corpus)\n",
    "X = pipe.fit_transform(corpus)\n",
    "km = KMeans(n_clusters=10, init='k-means++', max_iter=600,\n",
    "            algorithm=\"full\", precompute_distances=True)\n",
    "km.fit(X)"
   ],
   "metadata": {
    "collapsed": false,
    "pycharm": {
     "name": "#%%\n"
    }
   }
  },
  {
   "cell_type": "markdown",
   "source": [
    "### Посмотрим на внутренние метрики\n",
    "- **Силуэт: показывает, насколько объект похож на свой кластер относительно других кластеров; если значение стремится к 1 - хорошее разбиение, если к -1 - плохое, если в районе 0 - кластеры пересекаются. В нашем случае кластеры пересекаются, но разбиение скорее хорошее**\n",
    "- **Индекс Дэвиcа-Болдуина: оценивает расстояние от объекта кластера до центроида и расстояние между центроидами; чем ниже, тем лучше разбиение. В нашем случае разбиение хорошее (может быть намного больше)**\n",
    "#### С увеличением количества кластеров увеличивается силуэт и уменьшается индекс. Остановимся на 30 кластерах"
   ],
   "metadata": {
    "collapsed": false
   }
  },
  {
   "cell_type": "code",
   "execution_count": 162,
   "outputs": [
    {
     "name": "stdout",
     "output_type": "stream",
     "text": [
      "0.21943493781997742\n",
      "1.2228413841025365\n"
     ]
    }
   ],
   "source": [
    "print(metrics.silhouette_score(X, km.labels_, sample_size=1000))\n",
    "print(metrics.davies_bouldin_score(X.toarray(), km.labels_))"
   ],
   "metadata": {
    "collapsed": false,
    "pycharm": {
     "name": "#%%\n"
    }
   }
  },
  {
   "cell_type": "code",
   "execution_count": 163,
   "outputs": [
    {
     "name": "stdout",
     "output_type": "stream",
     "text": [
      "0.24983934234116253\n",
      "0.935093192487067\n"
     ]
    }
   ],
   "source": [
    "km = KMeans(n_clusters=20, init='k-means++', max_iter=600,\n",
    "            algorithm=\"full\", precompute_distances=True)\n",
    "km.fit(X)\n",
    "print(metrics.silhouette_score(X, km.labels_, sample_size=1000))\n",
    "print(metrics.davies_bouldin_score(X.toarray(), km.labels_))"
   ],
   "metadata": {
    "collapsed": false,
    "pycharm": {
     "name": "#%%\n"
    }
   }
  },
  {
   "cell_type": "code",
   "execution_count": 164,
   "outputs": [
    {
     "name": "stdout",
     "output_type": "stream",
     "text": [
      "0.26120678048994656\n",
      "0.8867571013175042\n"
     ]
    }
   ],
   "source": [
    "km = KMeans(n_clusters=25, init='k-means++', max_iter=600,\n",
    "            algorithm=\"full\", precompute_distances=True)\n",
    "km.fit(X)\n",
    "print(metrics.silhouette_score(X, km.labels_, sample_size=1000))\n",
    "print(metrics.davies_bouldin_score(X.toarray(), km.labels_))"
   ],
   "metadata": {
    "collapsed": false,
    "pycharm": {
     "name": "#%%\n"
    }
   }
  },
  {
   "cell_type": "code",
   "execution_count": 165,
   "outputs": [
    {
     "name": "stdout",
     "output_type": "stream",
     "text": [
      "0.26192927717614617\n",
      "0.8313719982054736\n"
     ]
    }
   ],
   "source": [
    "km = KMeans(n_clusters=30, init='k-means++', max_iter=600,\n",
    "            algorithm=\"full\", precompute_distances=True)\n",
    "km.fit(X)\n",
    "print(metrics.silhouette_score(X, km.labels_, sample_size=1000))\n",
    "print(metrics.davies_bouldin_score(X.toarray(), km.labels_))"
   ],
   "metadata": {
    "collapsed": false,
    "pycharm": {
     "name": "#%%\n"
    }
   }
  },
  {
   "cell_type": "code",
   "execution_count": 166,
   "outputs": [],
   "source": [
    "df_ner[\"label\"] = km.predict(X)"
   ],
   "metadata": {
    "collapsed": false,
    "pycharm": {
     "name": "#%%\n"
    }
   }
  },
  {
   "cell_type": "code",
   "execution_count": 167,
   "outputs": [
    {
     "data": {
      "text/plain": "3     58\n4      5\n20     4\n7      4\n5      3\n11     2\n16     2\n14     2\n13     2\n12     2\n10     2\n9      2\n21     1\n26     1\n27     1\n25     1\n28     1\n24     1\n23     1\n22     1\n0      1\n15     1\n19     1\n18     1\n17     1\n1      1\n8      1\n6      1\n2      1\n29     1\nName: label, dtype: int64"
     },
     "execution_count": 167,
     "metadata": {},
     "output_type": "execute_result"
    }
   ],
   "source": [
    "df_ner[\"label\"].value_counts()"
   ],
   "metadata": {
    "collapsed": false,
    "pycharm": {
     "name": "#%%\n"
    }
   }
  },
  {
   "cell_type": "markdown",
   "source": [
    "### В кластере 3 оказалось большинство объектов"
   ],
   "metadata": {
    "collapsed": false,
    "pycharm": {
     "name": "#%% md\n"
    }
   }
  },
  {
   "cell_type": "code",
   "execution_count": 169,
   "outputs": [
    {
     "data": {
      "text/plain": "    title                                               text  \\\n71     71  Как осознанность влияет на реальную жизнь  Дол...   \n156   156  Чем выход из тела отличается от осознанного сн...   \n248   248  Приглашаю вас на открытый вебинар! Уже сегодня...   \n114   114  Какой сон вещий и как можно научиться видеть т...   \n102   102  Как засыпать за 2 минуты, где бы вы ни находил...   \n\n                                        named_entities  label  \n71   [джон кабат-зинн, дэвидсон, дэвидсон, дэвидсон...      3  \n156                                     [китай, лента]      3  \n248                                    [мария егорова]      3  \n114  [авраам линкольн, белый дом, белый дом, белый ...      3  \n102               [бад уинтер, уинтер, уинтер, уинтер]      3  ",
      "text/html": "<div>\n<style scoped>\n    .dataframe tbody tr th:only-of-type {\n        vertical-align: middle;\n    }\n\n    .dataframe tbody tr th {\n        vertical-align: top;\n    }\n\n    .dataframe thead th {\n        text-align: right;\n    }\n</style>\n<table border=\"1\" class=\"dataframe\">\n  <thead>\n    <tr style=\"text-align: right;\">\n      <th></th>\n      <th>title</th>\n      <th>text</th>\n      <th>named_entities</th>\n      <th>label</th>\n    </tr>\n  </thead>\n  <tbody>\n    <tr>\n      <th>71</th>\n      <td>71</td>\n      <td>Как осознанность влияет на реальную жизнь  Дол...</td>\n      <td>[джон кабат-зинн, дэвидсон, дэвидсон, дэвидсон...</td>\n      <td>3</td>\n    </tr>\n    <tr>\n      <th>156</th>\n      <td>156</td>\n      <td>Чем выход из тела отличается от осознанного сн...</td>\n      <td>[китай, лента]</td>\n      <td>3</td>\n    </tr>\n    <tr>\n      <th>248</th>\n      <td>248</td>\n      <td>Приглашаю вас на открытый вебинар! Уже сегодня...</td>\n      <td>[мария егорова]</td>\n      <td>3</td>\n    </tr>\n    <tr>\n      <th>114</th>\n      <td>114</td>\n      <td>Какой сон вещий и как можно научиться видеть т...</td>\n      <td>[авраам линкольн, белый дом, белый дом, белый ...</td>\n      <td>3</td>\n    </tr>\n    <tr>\n      <th>102</th>\n      <td>102</td>\n      <td>Как засыпать за 2 минуты, где бы вы ни находил...</td>\n      <td>[бад уинтер, уинтер, уинтер, уинтер]</td>\n      <td>3</td>\n    </tr>\n  </tbody>\n</table>\n</div>"
     },
     "execution_count": 169,
     "metadata": {},
     "output_type": "execute_result"
    }
   ],
   "source": [
    "df_ner.query(\"label == 3\").sample(5)"
   ],
   "metadata": {
    "collapsed": false,
    "pycharm": {
     "name": "#%%\n"
    }
   }
  },
  {
   "cell_type": "code",
   "execution_count": 170,
   "outputs": [
    {
     "data": {
      "text/plain": "    title                                               text  \\\n26     26  Сегодня я хочу вам порекомендовать книгу по ос...   \n34     34  Как увидеть осознанный сон. Техника вдвойне эф...   \n79     79  Как увидеть осознанный сон, если хорошо помниш...   \n217   217  ТОП-3 книги для новичков    По осознанным снам...   \n221   221  Миф об обязательных вибрациях при выходе из те...   \n\n                                        named_entities  label  \n26                                 [лаберж, элис робб]      4  \n34                                            [лаберж]      4  \n79                                            [лаберж]      4  \n217  [вадим зеланд, патриция гарфилд, сеноев, стиве...      4  \n221                                    [стивен лаберж]      4  ",
      "text/html": "<div>\n<style scoped>\n    .dataframe tbody tr th:only-of-type {\n        vertical-align: middle;\n    }\n\n    .dataframe tbody tr th {\n        vertical-align: top;\n    }\n\n    .dataframe thead th {\n        text-align: right;\n    }\n</style>\n<table border=\"1\" class=\"dataframe\">\n  <thead>\n    <tr style=\"text-align: right;\">\n      <th></th>\n      <th>title</th>\n      <th>text</th>\n      <th>named_entities</th>\n      <th>label</th>\n    </tr>\n  </thead>\n  <tbody>\n    <tr>\n      <th>26</th>\n      <td>26</td>\n      <td>Сегодня я хочу вам порекомендовать книгу по ос...</td>\n      <td>[лаберж, элис робб]</td>\n      <td>4</td>\n    </tr>\n    <tr>\n      <th>34</th>\n      <td>34</td>\n      <td>Как увидеть осознанный сон. Техника вдвойне эф...</td>\n      <td>[лаберж]</td>\n      <td>4</td>\n    </tr>\n    <tr>\n      <th>79</th>\n      <td>79</td>\n      <td>Как увидеть осознанный сон, если хорошо помниш...</td>\n      <td>[лаберж]</td>\n      <td>4</td>\n    </tr>\n    <tr>\n      <th>217</th>\n      <td>217</td>\n      <td>ТОП-3 книги для новичков    По осознанным снам...</td>\n      <td>[вадим зеланд, патриция гарфилд, сеноев, стиве...</td>\n      <td>4</td>\n    </tr>\n    <tr>\n      <th>221</th>\n      <td>221</td>\n      <td>Миф об обязательных вибрациях при выходе из те...</td>\n      <td>[стивен лаберж]</td>\n      <td>4</td>\n    </tr>\n  </tbody>\n</table>\n</div>"
     },
     "execution_count": 170,
     "metadata": {},
     "output_type": "execute_result"
    }
   ],
   "source": [
    "df_ner.query(\"label == 4\")"
   ],
   "metadata": {
    "collapsed": false,
    "pycharm": {
     "name": "#%%\n"
    }
   }
  },
  {
   "cell_type": "code",
   "execution_count": 171,
   "outputs": [
    {
     "data": {
      "text/plain": "    title                                               text  \\\n3       3  Виды техник осознанного сновидения   Даже тот,...   \n86     86           Степан Юсин. Сонный паралич. 21.12.2020.   \n125   125  Осознанные сны подписчиков Вчера у меня началс...   \n142   142  Свежий отзыв на мою книгу от    \"Прочитал книг...   \n\n                  named_entities  label  \n3    [прямой метод, степан юсин]      7  \n86                 [степан юсин]      7  \n125                [осы, степан]      7  \n142         [степан юсин, фазер]      7  ",
      "text/html": "<div>\n<style scoped>\n    .dataframe tbody tr th:only-of-type {\n        vertical-align: middle;\n    }\n\n    .dataframe tbody tr th {\n        vertical-align: top;\n    }\n\n    .dataframe thead th {\n        text-align: right;\n    }\n</style>\n<table border=\"1\" class=\"dataframe\">\n  <thead>\n    <tr style=\"text-align: right;\">\n      <th></th>\n      <th>title</th>\n      <th>text</th>\n      <th>named_entities</th>\n      <th>label</th>\n    </tr>\n  </thead>\n  <tbody>\n    <tr>\n      <th>3</th>\n      <td>3</td>\n      <td>Виды техник осознанного сновидения   Даже тот,...</td>\n      <td>[прямой метод, степан юсин]</td>\n      <td>7</td>\n    </tr>\n    <tr>\n      <th>86</th>\n      <td>86</td>\n      <td>Степан Юсин. Сонный паралич. 21.12.2020.</td>\n      <td>[степан юсин]</td>\n      <td>7</td>\n    </tr>\n    <tr>\n      <th>125</th>\n      <td>125</td>\n      <td>Осознанные сны подписчиков Вчера у меня началс...</td>\n      <td>[осы, степан]</td>\n      <td>7</td>\n    </tr>\n    <tr>\n      <th>142</th>\n      <td>142</td>\n      <td>Свежий отзыв на мою книгу от    \"Прочитал книг...</td>\n      <td>[степан юсин, фазер]</td>\n      <td>7</td>\n    </tr>\n  </tbody>\n</table>\n</div>"
     },
     "execution_count": 171,
     "metadata": {},
     "output_type": "execute_result"
    }
   ],
   "source": [
    "df_ner.query(\"label == 7\")"
   ],
   "metadata": {
    "collapsed": false,
    "pycharm": {
     "name": "#%%\n"
    }
   }
  },
  {
   "cell_type": "code",
   "execution_count": 172,
   "outputs": [
    {
     "data": {
      "text/plain": "    title                                               text  \\\n85     85  Друг или враг: почему нам снятся кошмары?   Не...   \n190   190  Ложное пробуждение ОС наших подписчиков    Хот...   \n191   191  Как найти кошелёк во сне.  Осознанные сны подп...   \n198   198  Таблеточки  Осознанные сны наших подписчиков  ...   \n\n                                 named_entities  label  \n85                                        [сон]     20  \n190                                  [исс, сон]     20  \n191                                       [сон]     20  \n198  [билли айлиш, рубик, сон, федункив марина]     20  ",
      "text/html": "<div>\n<style scoped>\n    .dataframe tbody tr th:only-of-type {\n        vertical-align: middle;\n    }\n\n    .dataframe tbody tr th {\n        vertical-align: top;\n    }\n\n    .dataframe thead th {\n        text-align: right;\n    }\n</style>\n<table border=\"1\" class=\"dataframe\">\n  <thead>\n    <tr style=\"text-align: right;\">\n      <th></th>\n      <th>title</th>\n      <th>text</th>\n      <th>named_entities</th>\n      <th>label</th>\n    </tr>\n  </thead>\n  <tbody>\n    <tr>\n      <th>85</th>\n      <td>85</td>\n      <td>Друг или враг: почему нам снятся кошмары?   Не...</td>\n      <td>[сон]</td>\n      <td>20</td>\n    </tr>\n    <tr>\n      <th>190</th>\n      <td>190</td>\n      <td>Ложное пробуждение ОС наших подписчиков    Хот...</td>\n      <td>[исс, сон]</td>\n      <td>20</td>\n    </tr>\n    <tr>\n      <th>191</th>\n      <td>191</td>\n      <td>Как найти кошелёк во сне.  Осознанные сны подп...</td>\n      <td>[сон]</td>\n      <td>20</td>\n    </tr>\n    <tr>\n      <th>198</th>\n      <td>198</td>\n      <td>Таблеточки  Осознанные сны наших подписчиков  ...</td>\n      <td>[билли айлиш, рубик, сон, федункив марина]</td>\n      <td>20</td>\n    </tr>\n  </tbody>\n</table>\n</div>"
     },
     "execution_count": 172,
     "metadata": {},
     "output_type": "execute_result"
    }
   ],
   "source": [
    "df_ner.query(\"label == 20\")"
   ],
   "metadata": {
    "collapsed": false,
    "pycharm": {
     "name": "#%%\n"
    }
   }
  },
  {
   "cell_type": "code",
   "execution_count": 174,
   "outputs": [
    {
     "name": "stdout",
     "output_type": "stream",
     "text": [
      "Cluster 0: апноэ терапевты я-наблюдатель калифорнийский университет иэн уоллес йорк кабат-зинн калеи калея калигари\n",
      "Cluster 1: собакен люпин я-наблюдатель калифорнийский университет исс иэн уоллес йорк кабат-зинн калеи калея\n",
      "Cluster 2: бузунов москва я-наблюдатель каран радж иэн уоллес йорк кабат-зинн калеи калея калигари\n",
      "Cluster 3: австралия вьетнам менделеев подписчица подписка бзззз уинтер астрал привет группа\n",
      "Cluster 4: лаберж сеноев я-наблюдатель калифорнийский университет исс иэн уоллес йорк кабат-зинн калеи калея\n",
      "Cluster 5: фрейд мелехин нолан кинематографисты калигари москва йорк кабат-зинн калеи калея\n",
      "Cluster 6: европа россия сша лаберж я-наблюдатель калигари иэн уоллес йорк кабат-зинн калеи\n",
      "Cluster 7: степан фазер осы я-наблюдатель калифорнийский университет иэн уоллес йорк кабат-зинн калеи калея\n",
      "Cluster 8: чай лосось я-наблюдатель калигари исс иэн уоллес йорк кабат-зинн калеи калея\n",
      "Cluster 9: элайджа дело сон я-наблюдатель исс иэн уоллес йорк кабат-зинн калеи калея\n",
      "Cluster 10: калеи акапулько калея мексика я-наблюдатель каран радж иэн уоллес йорк кабат-зинн калигари\n",
      "Cluster 11: вто я-наблюдатель киви   киви иэн уоллес йорк кабат-зинн калеи калея калигари калифорнийский университет\n",
      "Cluster 12: акаши астрал я-наблюдатель каран радж иэн уоллес йорк кабат-зинн калеи калея калигари\n",
      "Cluster 13: бочкарев я-наблюдатель карлос йорк кабат-зинн калеи калея калигари калифорнийский университет каран радж\n",
      "Cluster 14: альцгеймер гарвард мгу пранаяма каран радж иэн уоллес йорк кабат-зинн калеи калея\n",
      "Cluster 15: маньяк я-наблюдатель каран радж иэн уоллес йорк кабат-зинн калеи калея калигари калифорнийский университет\n",
      "Cluster 16: кобб кейн кинопоиск нолану нолан калифорнийский университет йорк кабат-зинн калеи калея\n",
      "Cluster 17: карлос хуан я-наблюдатель калифорнийский университет исс иэн уоллес йорк кабат-зинн калеи калея\n",
      "Cluster 18: винни питер я-наблюдатель иэн уоллес йорк кабат-зинн калеи калея калигари калифорнийский университет\n",
      "Cluster 19: индиана близость я-наблюдатель карлос йорк кабат-зинн калеи калея калигари калифорнийский университет\n",
      "Cluster 20: сон исс рубик каран радж иэн уоллес йорк кабат-зинн калеи калея калигари\n",
      "Cluster 21: лакки растения я-наблюдатель кеннет джеймс паркс иэн уоллес йорк кабат-зинн калеи калея калигари\n",
      "Cluster 22: грабли я-наблюдатель институт орнитология макс планк иэн уоллес йорк кабат-зинн калеи калея калигари калифорнийский университет\n",
      "Cluster 23: буффало я-наблюдатель карлос йорк кабат-зинн калеи калея калигари калифорнийский университет каран радж\n",
      "Cluster 24: приключение я-наблюдатель каран радж иэн уоллес йорк кабат-зинн калеи калея калигари калифорнийский университет\n",
      "Cluster 25: юля я-наблюдатель каран радж исс иэн уоллес йорк кабат-зинн калеи калея калигари\n",
      "Cluster 26: аргентина сиэтл формоза солнце сон исс иэн уоллес йорк кабат-зинн калеи\n",
      "Cluster 27: чет я-наблюдатель калифорнийский университет исс иэн уоллес йорк кабат-зинн калеи калея калигари\n",
      "Cluster 28: секрет джеймс уотсон исс иэн уоллес йорк кабат-зинн калеи калея калигари калифорнийский университет\n",
      "Cluster 29: игорь наташа я-наблюдатель калифорнийский университет иэн уоллес йорк кабат-зинн калеи калея калигари\n"
     ]
    }
   ],
   "source": [
    "order_centroids = km.cluster_centers_.argsort()[:, ::-1]\n",
    "terms = pipe[0].get_feature_names()\n",
    "for i in range(30):\n",
    "    print(\"Cluster %d:\" % i, end='')\n",
    "    for ind in order_centroids[i, :10]:\n",
    "        print(' %s' % terms[ind], end='')\n",
    "    print()"
   ],
   "metadata": {
    "collapsed": false,
    "pycharm": {
     "name": "#%%\n"
    }
   }
  },
  {
   "cell_type": "markdown",
   "source": [
    "## Вывод\n",
    "### Из последней визуализации кластеров нельзя точно сказать, что какие-то из них имеют особую тематику, т.к. многие сущности оказались в большинстве кластеров одовременно. Такое разбиение происходит при любом количестве кластеров. Отчетливо видны топонимы в кластерах 3, 6, 10, 26"
   ],
   "metadata": {
    "collapsed": false,
    "pycharm": {
     "name": "#%% md\n"
    }
   }
  }
 ],
 "metadata": {
  "kernelspec": {
   "display_name": "Python 3",
   "language": "python",
   "name": "python3"
  },
  "language_info": {
   "codemirror_mode": {
    "name": "ipython",
    "version": 2
   },
   "file_extension": ".py",
   "mimetype": "text/x-python",
   "name": "python",
   "nbconvert_exporter": "python",
   "pygments_lexer": "ipython2",
   "version": "2.7.6"
  }
 },
 "nbformat": 4,
 "nbformat_minor": 0
}