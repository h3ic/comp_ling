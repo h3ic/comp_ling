{
 "cells": [
  {
   "cell_type": "code",
   "execution_count": 1,
   "id": "analyzed-bahamas",
   "metadata": {},
   "outputs": [],
   "source": [
    "import json\n",
    "from nltk.tokenize import RegexpTokenizer\n",
    "from nltk.corpus import stopwords\n",
    "stopwords_list = stopwords.words(\"russian\")"
   ]
  },
  {
   "cell_type": "markdown",
   "id": "obvious-consistency",
   "metadata": {
    "pycharm": {
     "name": "#%% md\n"
    }
   },
   "source": [
    "### Детально рассмотрим каждый шаг предобработки на первом документе корпуса"
   ]
  },
  {
   "cell_type": "code",
   "execution_count": 3,
   "id": "placed-finland",
   "metadata": {
    "pycharm": {
     "name": "#%%\n"
    }
   },
   "outputs": [
    {
     "name": "stdout",
     "output_type": "stream",
     "text": [
      "Миф об обязательных вибрациях при выходе из тела  ПРАКТИКА    Вибрации - это признак скорого выхода из тела или, если угодно, выхода в осознанный сон. Учёные связывают это с процессом возникновения сновидения. В этом состоянии тело начинает входить в паралич, чтобы не повторять движения из сна     Вибрации похожи на дрожь от электрического тока, только без боли, либо на дрожь от холода. Если вы испытываете вибрации, значит, из этого состояние очень легко выйти из тела!    Вибрации испытывал каждый, кто хоть раз говорил: «Меня аж передёрнуло от этого»  Только такие вибрации длятся секунду, а вибрации при выходе из тела чуть дольше.    Для того, чтобы почувствовать это состоянии прямо сейчас сделайте следующее: закройте глаза и представьте точку на уровне глаз на расстоянии 40 см и медленно её отдаляйте от тела. Чувствуете вибрации? У меня они наступают даже без расслабления.    Но надо понимать, что вибрации не всегда наступают при выходе из тела. Хотя они и случаются часто. Пока непонятно из-за чего они возникают  Может это вообще галлюцинация, и на самом деле тело не трясёт. Если бы трясло, то вибрации можно было бы зафиксировать приборами.    Не надо ставить целью – добиться этих самых вибраций. Такая позиция неправильная! Как я уже сказал - их вообще может не быть при выходе из тела. Либо они будут, но вы их проигнорируете. Помните, что цель не вибрации, а осознаться во сне!    Другие техники для выхода из тела прямым методом вы можете узнать на курсе «Прямой метод». До конца дня вы можете вписаться в курс за 1000 рублей, вместо 3500 рублей  Чтобы купить этот курс, напишите мне в группу (вот сюда ) «Прямой метод» я вам отправлю реквизиты для оплаты.   Купить этот курс со скидкой можно только сегодня!\n"
     ]
    }
   ],
   "source": [
    "with open('edited_corpus.json', 'r') as f:\n",
    "    corpus = json.load(f)\n",
    "print(corpus[0])"
   ]
  },
  {
   "cell_type": "markdown",
   "id": "creative-specification",
   "metadata": {
    "pycharm": {
     "name": "#%% md\n"
    }
   },
   "source": [
    "### Разобьем текст на токены с помощью RegexpTokenizer библиотеки nltk (обычный word_tokenize оставляет много пунктуации). В полученном списке токенами считаются также буквы т и д из т.д. и числительные. Избавимся от них с помощью условия на соответствие isalpha() и длины токена > 1, попутно приведя токены к нижнему регистру"
   ]
  },
  {
   "cell_type": "code",
   "execution_count": 4,
   "id": "efficient-substance",
   "metadata": {
    "pycharm": {
     "name": "#%%\n"
    }
   },
   "outputs": [
    {
     "name": "stdout",
     "output_type": "stream",
     "text": [
      "['Мешает', 'ли', 'сон', 'с', 'животными', 'практике', 'осознанных', 'снов', 'женщины', 'оценили', 'сон', 'с', 'домашними', 'питомцами', 'Любимое', 'животное', 'которое', 'спит', 'рядом', 'может', 'как', 'помочь', 'увидеть', 'осознанный', 'сон', 'так', 'и', 'навредить', 'Например', 'собака', 'может', 'залаять', 'кошка', 'замяукать', 'и', 'просто', 'вас', 'разбудить', 'из', 'осознанного', 'сна', 'А', 'ещё', 'животное', 'может', 'шуметь', 'шуршать', 'царапаться', 'или', 'толкаться']\n"
     ]
    }
   ],
   "source": [
    "tokenized_corpus = corpus[23]\n",
    "re_tokenizer = RegexpTokenizer(r'[А-яA-z-ё]+')\n",
    "tokens = re_tokenizer.tokenize(tokenized_corpus)\n",
    "print(tokens[:50])"
   ]
  },
  {
   "cell_type": "code",
   "execution_count": 5,
   "id": "extreme-library",
   "metadata": {
    "pycharm": {
     "name": "#%%\n"
    }
   },
   "outputs": [
    {
     "name": "stdout",
     "output_type": "stream",
     "text": [
      "['мешает', 'ли', 'сон', 'животными', 'практике', 'осознанных', 'снов', 'женщины', 'оценили', 'сон', 'домашними', 'питомцами', 'любимое', 'животное', 'которое', 'спит', 'рядом', 'может', 'как', 'помочь', 'увидеть', 'осознанный', 'сон', 'так', 'навредить', 'например', 'собака', 'может', 'залаять', 'кошка', 'замяукать', 'просто', 'вас', 'разбудить', 'из', 'осознанного', 'сна', 'ещё', 'животное', 'может', 'шуметь', 'шуршать', 'царапаться', 'или', 'толкаться', 'всё', 'это', 'может', 'вас', 'сбить']\n"
     ]
    }
   ],
   "source": [
    "tokens = [token.lower() for token in tokens if len(token) > 1 and token.isalpha()]\n",
    "print(tokens[:50])"
   ]
  },
  {
   "cell_type": "markdown",
   "id": "amber-ladder",
   "metadata": {
    "pycharm": {
     "name": "#%% md\n"
    }
   },
   "source": [
    "### Наконец, избавимся от стоп-слов (список импортирован из nltk).\\\n",
    "Добавим пару своих слов."
   ]
  },
  {
   "cell_type": "code",
   "execution_count": 6,
   "id": "optical-edwards",
   "metadata": {
    "pycharm": {
     "name": "#%%\n"
    }
   },
   "outputs": [
    {
     "name": "stdout",
     "output_type": "stream",
     "text": [
      "['мешает', 'сон', 'животными', 'практике', 'осознанных', 'снов', 'женщины', 'оценили', 'сон', 'домашними', 'питомцами', 'любимое', 'животное', 'которое', 'спит', 'рядом', 'помочь', 'увидеть', 'осознанный', 'сон', 'навредить', 'например', 'собака', 'залаять', 'кошка', 'замяукать', 'просто', 'разбудить', 'осознанного', 'сна', 'ещё', 'животное', 'шуметь', 'шуршать', 'царапаться', 'толкаться', 'всё', 'это', 'сбить', 'техники', 'выхода', 'тела', 'вернуть', 'осознанного', 'сна', 'реальность', 'стороны', 'домашние', 'животные', 'которые']\n"
     ]
    }
   ],
   "source": [
    "stopwords_list.extend(['из-за', 'аж'])\n",
    "wout_sw = [word for word in tokens if word not in stopwords_list]\n",
    "print(wout_sw[:50])"
   ]
  },
  {
   "cell_type": "markdown",
   "id": "lasting-giant",
   "metadata": {
    "pycharm": {
     "name": "#%%\n"
    }
   },
   "source": [
    "### Создадим словарь с обработанными документами"
   ]
  },
  {
   "cell_type": "code",
   "execution_count": 12,
   "id": "simple-disability",
   "metadata": {
    "pycharm": {
     "name": "#%%\n"
    }
   },
   "outputs": [],
   "source": [
    "def preprocess(doc: str):\n",
    "    re_tokenizer = RegexpTokenizer(r'[А-яA-z-ё]+')\n",
    "    tokens = re_tokenizer.tokenize(doc)\n",
    "    tokens = [token.lower() for token in tokens if len(token) > 1 and token.isalpha()]\n",
    "    tokenized_doc = [word for word in tokens if word not in stopwords_list]\n",
    "    return tokenized_doc"
   ]
  },
  {
   "cell_type": "code",
   "execution_count": 13,
   "id": "moderate-fantasy",
   "metadata": {
    "pycharm": {
     "name": "#%%\n"
    }
   },
   "outputs": [],
   "source": [
    "dict_tokenized_corpus = {}\n",
    "for i, doc in enumerate(corpus):\n",
    "    dict_tokenized_corpus[i] = preprocess(doc)"
   ]
  },
  {
   "cell_type": "code",
   "execution_count": 14,
   "id": "supported-morocco",
   "metadata": {
    "pycharm": {
     "name": "#%%\n"
    }
   },
   "outputs": [],
   "source": [
    "with open('dict_tokenized_corpus.json', 'w') as f:\n",
    "    json.dump(dict_tokenized_corpus, f, ensure_ascii=False)"
   ]
  },
  {
   "cell_type": "markdown",
   "id": "alpha-ecuador",
   "metadata": {
    "pycharm": {
     "name": "#%% md\n"
    }
   },
   "source": [
    "### Реализация функции для нахождения вхождений слова и слов с опечатками"
   ]
  },
  {
   "cell_type": "code",
   "execution_count": 10,
   "id": "english-listening",
   "metadata": {
    "pycharm": {
     "name": "#%%\n"
    }
   },
   "outputs": [],
   "source": [
    "from nltk.metrics import edit_distance\n",
    "\n",
    "def find_entries(input_word: str, corpus=dict_tokenized_corpus):\n",
    "    ids = []\n",
    "    typos = []\n",
    "    for key, doc in corpus.items():\n",
    "        if input_word in doc:\n",
    "            ids.append(key)\n",
    "    # if no entries found\n",
    "    if not ids:\n",
    "        for key, doc in corpus.items():\n",
    "            for word in doc:\n",
    "                if edit_distance(input_word, word) <= 1:\n",
    "                    typos.append(word)\n",
    "                    ids.append(key)\n",
    "    print(f'Для \"{input_word}\"')\n",
    "    print(f'Похожие: {typos}')\n",
    "    return ids"
   ]
  },
  {
   "cell_type": "markdown",
   "id": "structured-crawford",
   "metadata": {
    "pycharm": {
     "name": "#%% md\n"
    }
   },
   "source": [
    "### Примеры работы функции:"
   ]
  },
  {
   "cell_type": "code",
   "execution_count": 11,
   "id": "informative-latin",
   "metadata": {
    "pycharm": {
     "name": "#%%\n"
    }
   },
   "outputs": [
    {
     "name": "stdout",
     "output_type": "stream",
     "text": [
      "Для \"специалист\"\n",
      "Похожие: []\n",
      "[94, 95, 112]\n",
      "Для \"придти\"\n",
      "Похожие: ['прийти', 'прийти', 'прийти', 'прийти']\n",
      "[125, 139, 247, 260]\n",
      "Для \"коллапс\"\n",
      "Похожие: []\n",
      "[]\n"
     ]
    }
   ],
   "source": [
    "print(find_entries('специалист'))\n",
    "print(find_entries('придти'))\n",
    "print(find_entries('коллапс'))"
   ]
  }
 ],
 "metadata": {
  "kernelspec": {
   "display_name": "Python 3",
   "language": "python",
   "name": "python3"
  },
  "language_info": {
   "codemirror_mode": {
    "name": "ipython",
    "version": 3
   },
   "file_extension": ".py",
   "mimetype": "text/x-python",
   "name": "python",
   "nbconvert_exporter": "python",
   "pygments_lexer": "ipython3",
   "version": "3.9.2"
  }
 },
 "nbformat": 4,
 "nbformat_minor": 5
}
