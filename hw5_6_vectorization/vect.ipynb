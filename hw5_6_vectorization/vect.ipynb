{
 "cells": [
  {
   "cell_type": "code",
   "execution_count": 1,
   "metadata": {
    "collapsed": true
   },
   "outputs": [],
   "source": [
    "import pandas as pd\n",
    "import numpy as np\n",
    "# from nltk import word_tokenize, RegexpTokenizer\n",
    "from nltk.corpus import stopwords\n",
    "# from nltk.stem import WordNetLemmatizer\n",
    "\n",
    "stopwords_list = stopwords.words(\"english\")\n",
    "\n",
    "# from nltk import ngrams\n",
    "from sklearn.feature_extraction.text import CountVectorizer\n",
    "from sklearn.feature_extraction.text import TfidfVectorizer\n",
    "from sklearn.naive_bayes import MultinomialNB\n",
    "from sklearn.metrics import recall_score, accuracy_score, f1_score, precision_score\n",
    "from sklearn.model_selection import train_test_split\n",
    "from sklearn.pipeline import Pipeline"
   ]
  },
  {
   "cell_type": "code",
   "execution_count": 2,
   "outputs": [],
   "source": [
    "pos = pd.read_csv('pos.csv')\n",
    "neg = pd.read_csv('neg.csv')\n",
    "neg = neg.rename(columns={'0': 'text'})\n",
    "pos = pos.rename(columns={'0': 'text'})\n",
    "df = pd.concat([pos, neg])"
   ],
   "metadata": {
    "collapsed": false,
    "pycharm": {
     "name": "#%%\n"
    }
   }
  },
  {
   "cell_type": "markdown",
   "source": [
    "### Характеристики датасета"
   ],
   "metadata": {
    "collapsed": false,
    "pycharm": {
     "name": "#%% md\n"
    }
   }
  },
  {
   "cell_type": "code",
   "execution_count": 19,
   "outputs": [
    {
     "name": "stdout",
     "output_type": "stream",
     "text": [
      "Количество слов в корпусе 224067\n",
      "Количество документов 10662\n",
      "Среднее количестов слов в документе 21\n",
      "Среднее количестов слов в документе 20.0\n"
     ]
    }
   ],
   "source": [
    "doc_lenghts = df['text'].str.split().apply(lambda x: len(x))\n",
    "doc_count = df.shape[0]\n",
    "\n",
    "print(f'Количество слов в корпусе {word_count}')\n",
    "print(f'Количество документов {doc_count}')\n",
    "print(f'Медианное количестов слов в документе {np.median(doc_lenghts)}')"
   ],
   "metadata": {
    "collapsed": false,
    "pycharm": {
     "name": "#%%\n"
    }
   }
  },
  {
   "cell_type": "code",
   "execution_count": 61,
   "outputs": [],
   "source": [
    "# re_tokenizer = RegexpTokenizer(r'[A-z-]+')\n",
    "# wnl = WordNetLemmatizer()\n",
    "# df['text'] = df.apply(lambda sent: re_tokenizer.tokenize(sent['text']), axis=1)\n",
    "# df['text'] = df.apply(lambda sent: [token.lower() for token in sent['text'] if len(token) > 2 and token.isalpha()], axis=1)\n",
    "# df['text'] = df.apply(lambda sent: [wnl.lemmatize(word) for word in sent['text']], axis=1)\n",
    "# df['text'] = df.apply(lambda sent: [word for word in sent['text'] if word not in stopwords_list], axis=1)"
   ],
   "metadata": {
    "collapsed": false,
    "pycharm": {
     "name": "#%%\n"
    }
   }
  },
  {
   "cell_type": "code",
   "execution_count": 69,
   "outputs": [],
   "source": [
    "# vectorizer = CountVectorizer(stop_words=stopwords_list, token_pattern=r'[A-z-]+', ngram_range=(1, 2))\n",
    "# vectorized = vectorizer.fit_transform(df['text'])\n",
    "# ngrams_bag = pd.DataFrame(vectorized.toarray())\n",
    "\n",
    "# char_vectorizer = CountVectorizer(analyzer='char', ngram_range=(3, 8))\n",
    "# char_vectorized = char_vectorizer.fit_transform(df['text'])\n",
    "# char_ngrams_bag = pd.DataFrame(char_vectorized.toarray())"
   ],
   "metadata": {
    "collapsed": false,
    "pycharm": {
     "name": "#%%\n"
    }
   }
  },
  {
   "cell_type": "code",
   "execution_count": null,
   "outputs": [],
   "source": [
    "# bw_vectorizer = CountVectorizer(stop_words=stopwords_list, token_pattern=r'[A-z-]+')\n",
    "# bw_vectorized = bw_vectorizer.fit_transform(df['text'])\n",
    "# words_bag = pd.DataFrame(bw_vectorized.toarray())\n",
    "#\n",
    "# tfidf_vectorizer = TfidfVectorizer(max_df=0.95, min_df=2, stop_words=stopwords_list)\n",
    "# tfidf_vectorized = tfidf_vectorizer.fit_transform(df['text'])\n",
    "# tfidf_words_bag = pd.DataFrame(tfidf_vectorized.toarray())"
   ],
   "metadata": {
    "collapsed": false,
    "pycharm": {
     "name": "#%%\n"
    }
   }
  },
  {
   "cell_type": "code",
   "execution_count": 6,
   "outputs": [],
   "source": [
    "xtrain, xvalid, ytrain, yvalid = train_test_split(df['text'], df['sentiment'], test_size=0.25, random_state=17)\n",
    "\n",
    "pipelines = [\n",
    "    Pipeline([('ngrams_vectorizer', CountVectorizer(stop_words=stopwords_list, token_pattern=r'[A-z-]+', ngram_range=(1, 2))),\n",
    "              ('bayes', MultinomialNB())]),\n",
    "    Pipeline([('char_ngrams_v', CountVectorizer(analyzer='char', ngram_range=(3, 8))),\n",
    "              ('bayes', MultinomialNB())]),\n",
    "    Pipeline([('tfidf', CountVectorizer(stop_words=stopwords_list, token_pattern=r'[A-z-]+')),\n",
    "              ('bag_words_v', MultinomialNB())]),\n",
    "    Pipeline([('tfidf_v', TfidfVectorizer(max_df=0.95, min_df=2, stop_words=stopwords_list)),\n",
    "              ('bayes', MultinomialNB())]),\n",
    "    Pipeline([('tfidf_v', TfidfVectorizer(stop_words=stopwords_list)),\n",
    "              ('bayes', MultinomialNB())])\n",
    "]\n",
    "\n",
    "score = pd.DataFrame(columns=['accuracy', 'precision', 'f1_score', 'recall'])\n",
    "\n",
    "def get_pred_score(pipe,\n",
    "                   xtrain=xtrain, ytrain=ytrain,\n",
    "                   xvalid=xvalid, yvalid=yvalid):\n",
    "    pipe.fit(xtrain, ytrain)\n",
    "    predictions = pipe.predict(xvalid)\n",
    "    row = pd.Series({'accuracy': accuracy_score(yvalid, predictions),\n",
    "                     'precision': precision_score(yvalid, predictions),\n",
    "                     'f1_score': f1_score(yvalid, predictions),\n",
    "                     'recall': recall_score(yvalid, predictions)},\n",
    "                    name=pipe.steps[0][0])\n",
    "\n",
    "    return row\n",
    "\n",
    "for pipe in pipelines:\n",
    "    score = score.append(get_pred_score(pipe))"
   ],
   "metadata": {
    "collapsed": false,
    "pycharm": {
     "name": "#%%\n"
    }
   }
  },
  {
   "cell_type": "code",
   "execution_count": 7,
   "outputs": [
    {
     "data": {
      "text/plain": "               accuracy  precision  f1_score    recall\nngrams_v       0.763316   0.763827  0.764112  0.764398\nchar_ngrams_v  0.776444   0.764454  0.782323  0.801047\ntfidf          0.768942   0.772075  0.768595  0.765146\ntfidf_v        0.765566   0.773846  0.762988  0.752431\ntfidf_v        0.768942   0.768030  0.770321  0.772625",
      "text/html": "<div>\n<style scoped>\n    .dataframe tbody tr th:only-of-type {\n        vertical-align: middle;\n    }\n\n    .dataframe tbody tr th {\n        vertical-align: top;\n    }\n\n    .dataframe thead th {\n        text-align: right;\n    }\n</style>\n<table border=\"1\" class=\"dataframe\">\n  <thead>\n    <tr style=\"text-align: right;\">\n      <th></th>\n      <th>accuracy</th>\n      <th>precision</th>\n      <th>f1_score</th>\n      <th>recall</th>\n    </tr>\n  </thead>\n  <tbody>\n    <tr>\n      <th>ngrams_v</th>\n      <td>0.763316</td>\n      <td>0.763827</td>\n      <td>0.764112</td>\n      <td>0.764398</td>\n    </tr>\n    <tr>\n      <th>char_ngrams_v</th>\n      <td>0.776444</td>\n      <td>0.764454</td>\n      <td>0.782323</td>\n      <td>0.801047</td>\n    </tr>\n    <tr>\n      <th>tfidf</th>\n      <td>0.768942</td>\n      <td>0.772075</td>\n      <td>0.768595</td>\n      <td>0.765146</td>\n    </tr>\n    <tr>\n      <th>tfidf_v</th>\n      <td>0.765566</td>\n      <td>0.773846</td>\n      <td>0.762988</td>\n      <td>0.752431</td>\n    </tr>\n    <tr>\n      <th>tfidf_v</th>\n      <td>0.768942</td>\n      <td>0.768030</td>\n      <td>0.770321</td>\n      <td>0.772625</td>\n    </tr>\n  </tbody>\n</table>\n</div>"
     },
     "execution_count": 7,
     "metadata": {},
     "output_type": "execute_result"
    }
   ],
   "source": [
    "score"
   ],
   "metadata": {
    "collapsed": false,
    "pycharm": {
     "name": "#%%\n"
    }
   }
  }
 ],
 "metadata": {
  "kernelspec": {
   "display_name": "Python 3",
   "language": "python",
   "name": "python3"
  },
  "language_info": {
   "codemirror_mode": {
    "name": "ipython",
    "version": 2
   },
   "file_extension": ".py",
   "mimetype": "text/x-python",
   "name": "python",
   "nbconvert_exporter": "python",
   "pygments_lexer": "ipython2",
   "version": "2.7.6"
  }
 },
 "nbformat": 4,
 "nbformat_minor": 0
}